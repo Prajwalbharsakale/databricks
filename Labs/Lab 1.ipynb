{
 "cells": [
  {
   "cell_type": "code",
   "execution_count": 0,
   "metadata": {
    "application/vnd.databricks.v1+cell": {
     "cellMetadata": {},
     "inputWidgets": {},
     "nuid": "54721ba7-cfb1-4799-a837-140bfd9f138e",
     "showTitle": false,
     "tableResultSettingsMap": {},
     "title": ""
    }
   },
   "outputs": [],
   "source": [
    "#Write a Python script to read a CSV and load it into Snowflake or Databricks.\n",
    "\n",
    "from pyspark.sql import SparkSession\n",
    "spark = SparkSession.builder.appName(\"Load CSV file\").getOrCreate()\n",
    "\n",
    "df = spark.read.csv(\"dbfs:/Volumes/workspace/test/test_vol/load_databricks.csv\", header=True, inferSchema=True)\n",
    "#df.write.mode(\"overwrite\").saveAsTable(\"test.test_vol.load_databricks\")\n",
    "#print(df)\n",
    "df.write.mode(\"overwrite\").saveAsTable(\"workspace.test.load_databricks\")\n",
    "\n",
    "#printing the dataframe\n",
    "#print(df.display());\n",
    "\n",
    "# to print through spark sql.\n",
    "df_sql = spark.sql(\"select * from workspace.test.load_databricks\")\n",
    "\n",
    "#show result\n",
    "#-- Print as a text table.\n",
    "df_sql.show()\n",
    "\n",
    "#-- Print as a visual table.\n",
    "display(df_sql)\n",
    "\n",
    "#another way\n",
    "spark.sql(\"select * from workspace.test.load_databricks\").show();\n",
    "\n",
    "#another way\n",
    "display(spark.sql(\"select * from workspace.test.load_databricks\"));\n"
   ]
  },
  {
   "cell_type": "code",
   "execution_count": 0,
   "metadata": {
    "application/vnd.databricks.v1+cell": {
     "cellMetadata": {},
     "inputWidgets": {},
     "nuid": "b8a14e75-48e1-4b89-a1bc-07fcd182b352",
     "showTitle": false,
     "tableResultSettingsMap": {},
     "title": ""
    }
   },
   "outputs": [],
   "source": [
    "\n",
    "%sql\n",
    "select * from workspace.test.load_databricks;"
   ]
  }
 ],
 "metadata": {
  "application/vnd.databricks.v1+notebook": {
   "computePreferences": null,
   "dashboards": [],
   "environmentMetadata": {
    "base_environment": "",
    "environment_version": "3"
   },
   "inputWidgetPreferences": null,
   "language": "python",
   "notebookMetadata": {
    "pythonIndentUnit": 4
   },
   "notebookName": "Lab 1",
   "widgets": {}
  },
  "language_info": {
   "name": "python"
  }
 },
 "nbformat": 4,
 "nbformat_minor": 0
}
